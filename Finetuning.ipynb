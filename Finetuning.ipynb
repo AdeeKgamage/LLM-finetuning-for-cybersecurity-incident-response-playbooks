{
 "cells": [
  {
   "cell_type": "markdown",
   "id": "4ee3bd30",
   "metadata": {},
   "source": [
    "TASK SPECIFIC FINETUNING "
   ]
  },
  {
   "cell_type": "code",
   "execution_count": 1,
   "id": "638cca0d-10f2-4e1d-83ef-b1de81085115",
   "metadata": {},
   "outputs": [],
   "source": [
    "# Installing dependancies\n",
    "import os\n",
    "import torch\n",
    "import warnings\n",
    "import evaluate\n",
    "from transformers import (\n",
    "    AutoTokenizer,\n",
    "    AutoModelForCausalLM,\n",
    "    BitsAndBytesConfig,\n",
    "    Trainer,\n",
    "    TrainingArguments,\n",
    "    DataCollatorForLanguageModeling,\n",
    "    logging, \n",
    "    pipeline,\n",
    "    EvalPrediction\n",
    ")\n",
    "from datasets import Dataset, DatasetDict, load_dataset\n",
    "from docx import Document\n",
    "from peft import LoraConfig, get_peft_model, prepare_model_for_kbit_training\n",
    "from torch.utils.checkpoint import checkpoint\n",
    "from torch.cuda.amp import GradScaler, autocast\n",
    "from torch.utils.data import DataLoader\n"
   ]
  },
  {
   "cell_type": "code",
   "execution_count": 2,
   "id": "01f1db3f-f94e-443a-b80d-5ddc106f8144",
   "metadata": {},
   "outputs": [],
   "source": [
    "# Clear GPU cache\n",
    "torch.cuda.empty_cache()\n",
    "\n",
    "# Checking for GPU statistics\n",
    "def check_cuda_availability():\n",
    "    if torch.cuda.is_available():\n",
    "        num_gpus = torch.cuda.device_count()\n",
    "        print(f\"Number of GPUs available: {num_gpus}\")\n",
    "        for i in range(num_gpus):\n",
    "            gpu_stats = torch.cuda.get_device_properties(i)\n",
    "            # Calculate starting GPU memory usage (in GB)\n",
    "            start_gpu_memory = round(torch.cuda.max_memory_reserved(i) / 1024 / 1024 / 1024, 3)\n",
    "            # Calculate maximum GPU memory (in GB)\n",
    "            max_memory = round(gpu_stats.total_memory / 1024 / 1024 / 1024, 3)\n",
    "            print(f\"\\nGPU {i}: {gpu_stats.name}\")\n",
    "            print(f\"Starting GPU Memory Reserved: {start_gpu_memory} GB\")\n",
    "            print(f\"Total GPU Memory: {max_memory} GB\")\n",
    "    else:\n",
    "        print(\"CUDA is not available on this system.\")"
   ]
  },
  {
   "cell_type": "code",
   "execution_count": 4,
   "id": "32d52c5c-e4ed-49e9-8c82-934fcf1221c4",
   "metadata": {},
   "outputs": [],
   "source": [
    "# Model\n",
    "model_id = \"meta-llama/Llama-2-7b-chat-hf\"\n",
    "\n",
    "# Token \n",
    "token=\" \""
   ]
  },
  {
   "cell_type": "code",
   "execution_count": 5,
   "id": "ba7a7d35-c133-46ae-897d-5b6c604d0b22",
   "metadata": {},
   "outputs": [
    {
     "data": {
      "application/vnd.jupyter.widget-view+json": {
       "model_id": "90e639b7924249e3b4aa1bc075f6fb9f",
       "version_major": 2,
       "version_minor": 0
      },
      "text/plain": [
       "Loading checkpoint shards:   0%|          | 0/2 [00:00<?, ?it/s]"
      ]
     },
     "metadata": {},
     "output_type": "display_data"
    }
   ],
   "source": [
    "# Quantisation configuration setup\n",
    "bnb_config = BitsAndBytesConfig(\n",
    "    load_in_4bit=True,\n",
    "    bnb_4bit_use_double_quant=True,\n",
    "    bnb_4bit_quant_type=\"nf4\",\n",
    "    bnb_4bit_compute_dtype=torch.bfloat16\n",
    ")\n",
    "\n",
    "# Lora configuration setup\n",
    "config = LoraConfig(\n",
    "    r=4, \n",
    "    lora_alpha=32, \n",
    "    target_modules=['q_proj', 'k_proj', 'v_proj', 'o_proj'], \n",
    "    lora_dropout=0.05, \n",
    "    bias=\"none\", \n",
    "    task_type=\"CAUSAL_LM\"\n",
    ")\n",
    "\n",
    "# Define function to load the tokenizer and model\n",
    "def load_tokenizer_and_model(model_id):\n",
    "    model = AutoModelForCausalLM.from_pretrained(model_id, quantization_config=bnb_config, device_map={\"\": \"cuda\"}, token=token)\n",
    "    model.config.use_cache = False\n",
    "    tokenizer = AutoTokenizer.from_pretrained(model_id, use_fast = True)\n",
    "    tokenizer.pad_token = tokenizer.eos_token\n",
    "    tokenizer.padding_side = \"right\"    \n",
    "    return tokenizer, model\n",
    "\n",
    "# Load the tokenizer and model \n",
    "tokenizer, model = load_tokenizer_and_model(model_id)\n",
    "\n",
    "# Enabling gradient checkpoint\n",
    "model.gradient_checkpointing_enable()\n",
    "\n",
    "# Prepare the model for kbit training\n",
    "model = prepare_model_for_kbit_training(model)\n",
    "\n",
    "# Apply LoRA to the model\n",
    "model = get_peft_model(model, config)"
   ]
  },
  {
   "cell_type": "code",
   "execution_count": 13,
   "id": "bc2c1de7-8133-44aa-a2e0-3754694c605b",
   "metadata": {},
   "outputs": [
    {
     "name": "stdout",
     "output_type": "stream",
     "text": [
      "trainable params: 4194304 || all params: 3504607232 || trainable%: 0.1197%\n"
     ]
    }
   ],
   "source": [
    "# Prints trainable parameters %\n",
    "def print_trainable_parameters(model):\n",
    "    trainable_params = 0\n",
    "    all_param = 0\n",
    "    for _, param in model.named_parameters():\n",
    "        all_param += param.numel()\n",
    "        if param.requires_grad:\n",
    "            trainable_params += param.numel()\n",
    "    print(\n",
    "        f\"trainable params: {trainable_params} || all params: {all_param} || trainable%: {100 * trainable_params / all_param:.4f}%\"\n",
    "    )\n",
    "print_trainable_parameters(model)"
   ]
  },
  {
   "cell_type": "code",
   "execution_count": 15,
   "id": "0eb1448d-c542-462c-ab2f-d673c3f42278",
   "metadata": {},
   "outputs": [],
   "source": [
    "# Load the dataset \n",
    "dataset_dict = load_from_disk(\" \")\n",
    "\n",
    "# Tokenization \n",
    "tokenized_dataset = dataset_dict.map(\n",
    "    lambda samples: tokenizer(samples[\"text\"], truncation=True, padding=True, max_length=1200), \n",
    "    batched=True, \n",
    "    remove_columns=['text'])\n",
    "def convert_to_tensors(batch):\n",
    "    return {\n",
    "        'input_ids': torch.tensor(batch['input_ids']),\n",
    "        'attention_mask': torch.tensor(batch['attention_mask'])}\n",
    "\n",
    "# Apply to the dataset\n",
    "tokenized_torch_dataset = tokenized_dataset.map(convert_to_tensors, batched=True)\n",
    "tokenized_train_dataset = tokenized_torch_dataset[\"train\"]\n",
    "tokenized_test_dataset = tokenized_torch_dataset[\"test\"]"
   ]
  },
  {
   "cell_type": "code",
   "execution_count": 19,
   "id": "2a099469-9399-4c16-9ec3-ed240baf8f90",
   "metadata": {},
   "outputs": [],
   "source": [
    "# Ensure that the model is on the correct device\n",
    "device = torch.device(\"cuda\" if torch.cuda.is_available() else \"cpu\")\n",
    "model = model.to(device)"
   ]
  },
  {
   "cell_type": "code",
   "execution_count": 21,
   "id": "1b2511e7-11f7-41c2-b7db-9ecc0a2e1a47",
   "metadata": {},
   "outputs": [],
   "source": [
    "# Set up training arguments\n",
    "training_args = TrainingArguments(\n",
    "    output_dir=\" \",\n",
    "    per_device_train_batch_size=4,\n",
    "    per_device_eval_batch_size=4,\n",
    "    gradient_accumulation_steps=8,\n",
    "    evaluation_strategy=\"steps\",     \n",
    "    eval_steps=5,                  \n",
    "    logging_steps=5,     \n",
    "    max_steps=75,\n",
    "    learning_rate=2e-4,\n",
    "    warmup_steps=2,    \n",
    "    save_steps=15,                  \n",
    "    weight_decay=0.01,    \n",
    "    logging_dir=\"./logs\",\n",
    "    optim=\"paged_adamw_8bit\",\n",
    "    remove_unused_columns=False,\n",
    "    report_to=\"tensorboard\",\n",
    "    lr_scheduler_type=\"linear\",    \n",
    ")\n",
    "\n",
    "# Define a data collator\n",
    "data_collator = DataCollatorForLanguageModeling(tokenizer=tokenizer, mlm=False)"
   ]
  },
  {
   "cell_type": "code",
   "execution_count": 23,
   "id": "9efa7482-fcd3-4ec3-b735-86bcf4d15462",
   "metadata": {},
   "outputs": [
    {
     "name": "stderr",
     "output_type": "stream",
     "text": [
      "max_steps is given, it will override any value given in num_train_epochs\n"
     ]
    }
   ],
   "source": [
    "# Initialize the Trainer\n",
    "trainer = Trainer(\n",
    "    model=model,\n",
    "    train_dataset=tokenized_train_dataset,\n",
    "    eval_dataset=tokenized_test_dataset,\n",
    "    data_collator=data_collator,\n",
    "    tokenizer=tokenizer,\n",
    "    args=training_args,\n",
    ") "
   ]
  },
  {
   "cell_type": "code",
   "execution_count": null,
   "id": "afb97333",
   "metadata": {},
   "outputs": [],
   "source": [
    "from torch.cuda.amp import GradScaler\n",
    "import os\n",
    "\n",
    "# Mixed precision training setup\n",
    "scaler = GradScaler()"
   ]
  },
  {
   "cell_type": "code",
   "execution_count": 27,
   "id": "c7c854a8-0327-4aeb-bbc2-192b235c6512",
   "metadata": {},
   "outputs": [
    {
     "data": {
      "text/html": [
       "\n",
       "    <div>\n",
       "      \n",
       "      <progress value='75' max='75' style='width:300px; height:20px; vertical-align: middle;'></progress>\n",
       "      [75/75 3:00:03, Epoch 12/13]\n",
       "    </div>\n",
       "    <table border=\"1\" class=\"dataframe\">\n",
       "  <thead>\n",
       " <tr style=\"text-align: left;\">\n",
       "      <th>Step</th>\n",
       "      <th>Training Loss</th>\n",
       "      <th>Validation Loss</th>\n",
       "    </tr>\n",
       "  </thead>\n",
       "  <tbody>\n",
       "    <tr>\n",
       "      <td>5</td>\n",
       "      <td>1.974300</td>\n",
       "      <td>1.919829</td>\n",
       "    </tr>\n",
       "    <tr>\n",
       "      <td>10</td>\n",
       "      <td>1.858100</td>\n",
       "      <td>1.752260</td>\n",
       "    </tr>\n",
       "    <tr>\n",
       "      <td>15</td>\n",
       "      <td>1.576600</td>\n",
       "      <td>1.592502</td>\n",
       "    </tr>\n",
       "    <tr>\n",
       "      <td>20</td>\n",
       "      <td>1.420500</td>\n",
       "      <td>1.452209</td>\n",
       "    </tr>\n",
       "    <tr>\n",
       "      <td>25</td>\n",
       "      <td>1.376900</td>\n",
       "      <td>1.359746</td>\n",
       "    </tr>\n",
       "    <tr>\n",
       "      <td>30</td>\n",
       "      <td>1.197100</td>\n",
       "      <td>1.299819</td>\n",
       "    </tr>\n",
       "    <tr>\n",
       "      <td>35</td>\n",
       "      <td>1.170400</td>\n",
       "      <td>1.247710</td>\n",
       "    </tr>\n",
       "    <tr>\n",
       "      <td>40</td>\n",
       "      <td>1.128000</td>\n",
       "      <td>1.206051</td>\n",
       "    </tr>\n",
       "    <tr>\n",
       "      <td>45</td>\n",
       "      <td>1.048300</td>\n",
       "      <td>1.164921</td>\n",
       "    </tr>\n",
       "    <tr>\n",
       "      <td>50</td>\n",
       "      <td>1.017000</td>\n",
       "      <td>1.130786</td>\n",
       "    </tr>\n",
       "    <tr>\n",
       "      <td>55</td>\n",
       "      <td>0.893700</td>\n",
       "      <td>1.109316</td>\n",
       "    </tr>\n",
       "    <tr>\n",
       "      <td>60</td>\n",
       "      <td>0.844500</td>\n",
       "      <td>1.089188</td>\n",
       "    </tr>\n",
       "    <tr>\n",
       "      <td>65</td>\n",
       "      <td>0.832200</td>\n",
       "      <td>1.076252</td>\n",
       "    </tr>\n",
       "    <tr>\n",
       "      <td>70</td>\n",
       "      <td>0.926000</td>\n",
       "      <td>1.065225</td>\n",
       "    </tr>\n",
       "    <tr>\n",
       "      <td>75</td>\n",
       "      <td>0.769200</td>\n",
       "      <td>1.065131</td>\n",
       "    </tr>\n",
       "  </tbody>\n",
       "</table><p>"
      ],
      "text/plain": [
       "<IPython.core.display.HTML object>"
      ]
     },
     "metadata": {},
     "output_type": "display_data"
    },
    {
     "data": {
      "text/plain": [
       "TrainOutput(global_step=75, training_loss=1.202188622156779, metrics={'train_runtime': 10931.6848, 'train_samples_per_second': 0.055, 'train_steps_per_second': 0.007, 'total_flos': 2.85618438144e+16, 'train_loss': 1.202188622156779, 'epoch': 12.244897959183673})"
      ]
     },
     "execution_count": 27,
     "metadata": {},
     "output_type": "execute_result"
    }
   ],
   "source": [
    "# training\n",
    "trainer.train()"
   ]
  },
  {
   "cell_type": "code",
   "execution_count": 31,
   "id": "78d46300-5716-4593-a4b4-b25a5786bfd9",
   "metadata": {},
   "outputs": [
    {
     "data": {
      "text/plain": [
       "('Llama-2-7b-chat-hf-ft-config-playbooks\\\\tokenizer_config.json',\n",
       " 'Llama-2-7b-chat-hf-ft-config-playbooks\\\\special_tokens_map.json',\n",
       " 'Llama-2-7b-chat-hf-ft-config-playbooks\\\\tokenizer.json')"
      ]
     },
     "execution_count": 31,
     "metadata": {},
     "output_type": "execute_result"
    }
   ],
   "source": [
    "# Save the fine-tuned model locally\n",
    "fine_tuned_model_directory = \"Llama-2-7b-chat-hf-ft-config-playbooks\"\n",
    "trainer.model.save_pretrained(fine_tuned_model_directory)\n",
    "tokenizer.save_pretrained(fine_tuned_model_directory)"
   ]
  },
  {
   "cell_type": "code",
   "execution_count": 39,
   "id": "c79f15e6-eaf4-4933-9837-352d708ac096",
   "metadata": {},
   "outputs": [
    {
     "name": "stdout",
     "output_type": "stream",
     "text": [
      "Number of GPUs available: 2\n",
      "\n",
      "GPU 0: Quadro RTX 4000\n",
      "Starting GPU Memory Reserved: 6.096 GB\n",
      "Total GPU Memory: 8.0 GB\n",
      "\n",
      "GPU 1: Quadro RTX 4000\n",
      "Starting GPU Memory Reserved: 0.0 GB\n",
      "Total GPU Memory: 8.0 GB\n"
     ]
    }
   ],
   "source": [
    "# Call the function to check CUDA availability\n",
    "check_cuda_availability()"
   ]
  }
 ],
 "metadata": {
  "kernelspec": {
   "display_name": "Python 3 (ipykernel)",
   "language": "python",
   "name": "python3"
  },
  "language_info": {
   "codemirror_mode": {
    "name": "ipython",
    "version": 3
   },
   "file_extension": ".py",
   "mimetype": "text/x-python",
   "name": "python",
   "nbconvert_exporter": "python",
   "pygments_lexer": "ipython3",
   "version": "3.12.4"
  }
 },
 "nbformat": 4,
 "nbformat_minor": 5
}
